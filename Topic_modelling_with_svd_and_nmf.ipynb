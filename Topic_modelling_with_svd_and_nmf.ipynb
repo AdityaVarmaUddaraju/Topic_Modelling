{
  "nbformat": 4,
  "nbformat_minor": 0,
  "metadata": {
    "colab": {
      "name": "Topic_modelling_with_svd_and_nmf.ipynb",
      "provenance": [],
      "authorship_tag": "ABX9TyO8J/End9mPyxd4sWzRnm5l",
      "include_colab_link": true
    },
    "kernelspec": {
      "name": "python3",
      "display_name": "Python 3"
    },
    "language_info": {
      "name": "python"
    }
  },
  "cells": [
    {
      "cell_type": "markdown",
      "metadata": {
        "id": "view-in-github",
        "colab_type": "text"
      },
      "source": [
        "<a href=\"https://colab.research.google.com/github/AdityaVarmaUddaraju/Topic_Modelling/blob/main/Topic_modelling_with_svd_and_nmf.ipynb\" target=\"_parent\"><img src=\"https://colab.research.google.com/assets/colab-badge.svg\" alt=\"Open In Colab\"/></a>"
      ]
    },
    {
      "cell_type": "markdown",
      "metadata": {
        "id": "6rtnnkmdzNUk"
      },
      "source": [
        "# Singular Value Decomposition"
      ]
    },
    {
      "cell_type": "code",
      "metadata": {
        "id": "fiVdM7HqopKe"
      },
      "source": [
        "import numpy as np\n",
        "from sklearn.datasets import fetch_20newsgroups\n",
        "from sklearn import decomposition\n",
        "from scipy import linalg"
      ],
      "execution_count": 1,
      "outputs": []
    },
    {
      "cell_type": "code",
      "metadata": {
        "colab": {
          "base_uri": "https://localhost:8080/"
        },
        "id": "rRrORyK6pAG0",
        "outputId": "4f43d492-18d3-4395-8296-609f364b3711"
      },
      "source": [
        "categories = ['alt.atheism', 'talk.religion.misc', 'comp.graphics', 'sci.space']\n",
        "remove = ('headers', 'footers', 'quotes')\n",
        "newsgroups_train = fetch_20newsgroups(subset='train', categories=categories, remove=remove)\n",
        "newsgroups_test = fetch_20newsgroups(subset='test', categories=categories, remove=remove)"
      ],
      "execution_count": 2,
      "outputs": [
        {
          "output_type": "stream",
          "name": "stderr",
          "text": [
            "Downloading 20news dataset. This may take a few minutes.\n",
            "Downloading dataset from https://ndownloader.figshare.com/files/5975967 (14 MB)\n"
          ]
        }
      ]
    },
    {
      "cell_type": "code",
      "metadata": {
        "colab": {
          "base_uri": "https://localhost:8080/"
        },
        "id": "TA7AMzJdpEjU",
        "outputId": "4eaeb09f-9c1d-44a4-f87d-953010ac585e"
      },
      "source": [
        "first_3_text = newsgroups_train.data[:3]\n",
        "first_3_label = newsgroups_train.target[:3]\n",
        "for text,label in zip(first_3_text, first_3_label):\n",
        "  print(f'{text}')\n",
        "  print(f'topic: {label}')"
      ],
      "execution_count": 5,
      "outputs": [
        {
          "output_type": "stream",
          "name": "stdout",
          "text": [
            "Hi,\n",
            "\n",
            "I've noticed that if you only save a model (with all your mapping planes\n",
            "positioned carefully) to a .3DS file that when you reload it after restarting\n",
            "3DS, they are given a default position and orientation.  But if you save\n",
            "to a .PRJ file their positions/orientation are preserved.  Does anyone\n",
            "know why this information is not stored in the .3DS file?  Nothing is\n",
            "explicitly said in the manual about saving texture rules in the .PRJ file. \n",
            "I'd like to be able to read the texture rule information, does anyone have \n",
            "the format for the .PRJ file?\n",
            "\n",
            "Is the .CEL file format available from somewhere?\n",
            "\n",
            "Rych\n",
            "topic: 1\n",
            "\n",
            "\n",
            "Seems to be, barring evidence to the contrary, that Koresh was simply\n",
            "another deranged fanatic who thought it neccessary to take a whole bunch of\n",
            "folks with him, children and all, to satisfy his delusional mania. Jim\n",
            "Jones, circa 1993.\n",
            "\n",
            "\n",
            "Nope - fruitcakes like Koresh have been demonstrating such evil corruption\n",
            "for centuries.\n",
            "topic: 3\n",
            "\n",
            " >In article <1993Apr19.020359.26996@sq.sq.com>, msb@sq.sq.com (Mark Brader) \n",
            "\n",
            "MB>                                                             So the\n",
            "MB> 1970 figure seems unlikely to actually be anything but a perijove.\n",
            "\n",
            "JG>Sorry, _perijoves_...I'm not used to talking this language.\n",
            "\n",
            "Couldn't we just say periapsis or apoapsis?\n",
            "\n",
            " \n",
            "topic: 2\n"
          ]
        }
      ]
    },
    {
      "cell_type": "code",
      "metadata": {
        "colab": {
          "base_uri": "https://localhost:8080/"
        },
        "id": "8NhL5RG9phr_",
        "outputId": "1754cc14-fb4b-4b85-e0dc-bee94470617c"
      },
      "source": [
        "newsgroups_train.target_names"
      ],
      "execution_count": 6,
      "outputs": [
        {
          "output_type": "execute_result",
          "data": {
            "text/plain": [
              "['alt.atheism', 'comp.graphics', 'sci.space', 'talk.religion.misc']"
            ]
          },
          "metadata": {},
          "execution_count": 6
        }
      ]
    },
    {
      "cell_type": "code",
      "metadata": {
        "id": "qqbnLvFAqLFu"
      },
      "source": [
        "from sklearn.feature_extraction.text import CountVectorizer"
      ],
      "execution_count": 7,
      "outputs": []
    },
    {
      "cell_type": "code",
      "metadata": {
        "id": "e3Jf4lRaqa8p"
      },
      "source": [
        "vectorizer = CountVectorizer(stop_words='english')"
      ],
      "execution_count": 8,
      "outputs": []
    },
    {
      "cell_type": "code",
      "metadata": {
        "colab": {
          "base_uri": "https://localhost:8080/"
        },
        "id": "ZiD6_7I7qiyq",
        "outputId": "2a424c0c-f5ff-456e-af22-f867fe4775cc"
      },
      "source": [
        "vectors = vectorizer.fit_transform(newsgroups_train.data).todense()\n",
        "vectors.shape"
      ],
      "execution_count": 9,
      "outputs": [
        {
          "output_type": "execute_result",
          "data": {
            "text/plain": [
              "(2034, 26576)"
            ]
          },
          "metadata": {},
          "execution_count": 9
        }
      ]
    },
    {
      "cell_type": "code",
      "metadata": {
        "colab": {
          "base_uri": "https://localhost:8080/"
        },
        "id": "FlXr8GRHqqSb",
        "outputId": "65abbc79-e727-4a17-f1fb-13b1307c3296"
      },
      "source": [
        "len(newsgroups_train.data)"
      ],
      "execution_count": 10,
      "outputs": [
        {
          "output_type": "execute_result",
          "data": {
            "text/plain": [
              "2034"
            ]
          },
          "metadata": {},
          "execution_count": 10
        }
      ]
    },
    {
      "cell_type": "code",
      "metadata": {
        "id": "kjWaTyhPqt8q"
      },
      "source": [
        "vocab = np.array(vectorizer.get_feature_names())"
      ],
      "execution_count": 11,
      "outputs": []
    },
    {
      "cell_type": "code",
      "metadata": {
        "colab": {
          "base_uri": "https://localhost:8080/"
        },
        "id": "zlT6IV4Nq2Vq",
        "outputId": "c1b21c53-6638-4144-ba00-87c1c2971289"
      },
      "source": [
        "vocab.shape"
      ],
      "execution_count": 12,
      "outputs": [
        {
          "output_type": "execute_result",
          "data": {
            "text/plain": [
              "(26576,)"
            ]
          },
          "metadata": {},
          "execution_count": 12
        }
      ]
    },
    {
      "cell_type": "code",
      "metadata": {
        "id": "lK0daxl0q5aj"
      },
      "source": [
        "# Usinf svd to decompose term document matrix \n",
        "U, s, Vh = linalg.svd(vectors, full_matrices=False)"
      ],
      "execution_count": 13,
      "outputs": []
    },
    {
      "cell_type": "code",
      "metadata": {
        "colab": {
          "base_uri": "https://localhost:8080/"
        },
        "id": "-ix8HeEkrSJt",
        "outputId": "d29c8694-5627-4218-9406-e7d8ce4b4a19"
      },
      "source": [
        "U.shape, s.shape, Vh.shape"
      ],
      "execution_count": 14,
      "outputs": [
        {
          "output_type": "execute_result",
          "data": {
            "text/plain": [
              "((2034, 2034), (2034,), (2034, 26576))"
            ]
          },
          "metadata": {},
          "execution_count": 14
        }
      ]
    },
    {
      "cell_type": "code",
      "metadata": {
        "id": "oGQnBQ_1riCO"
      },
      "source": [
        "num_top_words=8\n",
        "\n",
        "def show_topics(a):\n",
        "    top_words = lambda t: [vocab[i] for i in np.argsort(t)[:-num_top_words-1:-1]]\n",
        "    topic_words = ([top_words(t) for t in a])\n",
        "    return [' '.join(t) for t in topic_words]"
      ],
      "execution_count": 15,
      "outputs": []
    },
    {
      "cell_type": "code",
      "metadata": {
        "colab": {
          "base_uri": "https://localhost:8080/"
        },
        "id": "a3lQFKSar0N_",
        "outputId": "528330f6-a7a6-42a7-f682-5ffbc84c152c"
      },
      "source": [
        "show_topics(Vh[383:384])"
      ],
      "execution_count": 26,
      "outputs": [
        {
          "output_type": "execute_result",
          "data": {
            "text/plain": [
              "['read file koran linux mode given list interesting']"
            ]
          },
          "metadata": {},
          "execution_count": 26
        }
      ]
    },
    {
      "cell_type": "code",
      "metadata": {
        "colab": {
          "base_uri": "https://localhost:8080/"
        },
        "id": "STFPvEYnr1jW",
        "outputId": "0dbdc0e6-6a3a-4893-a5c2-b9a52b65f1b3"
      },
      "source": [
        "np.argmax(U[0])"
      ],
      "execution_count": 24,
      "outputs": [
        {
          "output_type": "execute_result",
          "data": {
            "text/plain": [
              "383"
            ]
          },
          "metadata": {},
          "execution_count": 24
        }
      ]
    },
    {
      "cell_type": "code",
      "metadata": {
        "colab": {
          "base_uri": "https://localhost:8080/",
          "height": 209
        },
        "id": "iGimPHCfu4gY",
        "outputId": "aa0c4856-0746-45f1-8dae-723ba38cf510"
      },
      "source": [
        "newsgroups_train.data[7]"
      ],
      "execution_count": 34,
      "outputs": [
        {
          "output_type": "execute_result",
          "data": {
            "application/vnd.google.colaboratory.intrinsic+json": {
              "type": "string"
            },
            "text/plain": [
              "\"\\nAcorn Replay running on a 25MHz ARM 3 processor (the ARM 3 is about 20% slower\\nthan the ARM 6) does this in software (off a standard CD-ROM). 16 bit colour at\\nabout the same resolution (so what if the computer only has 8 bit colour\\nsupport, real-time dithering too...). The 3D0/O is supposed to have a couple of\\nDSPs - the ARM being used for housekeeping.\\n\\n\\nA 25MHz ARM 6xx should clock around 20 ARM MIPS, say 18 flat out. Depends\\nreally on the surrounding system and whether you are talking ARM6x or ARM6xx\\n(the latter has a cache, and so is essential to run at this kind of speed with\\nslower memory).\\n\\nI'll stop saying things there 'cos I'll hopefully be working for ARM after\\ngraduation...\\n\\nMike\\n\\nPS Don't pay heed to what reps from Philips say; if the 3D0/O doesn't beat the\\n   pants off 3DI then I'll eat this postscript.\""
            ]
          },
          "metadata": {},
          "execution_count": 34
        }
      ]
    },
    {
      "cell_type": "code",
      "metadata": {
        "colab": {
          "base_uri": "https://localhost:8080/"
        },
        "id": "JcIZ6nhfv40v",
        "outputId": "edbe858f-c52f-4d99-9fa2-46800204b591"
      },
      "source": [
        "np.argmax(U[7])"
      ],
      "execution_count": 35,
      "outputs": [
        {
          "output_type": "execute_result",
          "data": {
            "text/plain": [
              "431"
            ]
          },
          "metadata": {},
          "execution_count": 35
        }
      ]
    },
    {
      "cell_type": "code",
      "metadata": {
        "colab": {
          "base_uri": "https://localhost:8080/"
        },
        "id": "vFgg43CLwBms",
        "outputId": "e6ee2110-cb90-4a86-e299-f0934e50bd38"
      },
      "source": [
        "show_topics(Vh[431:432])"
      ],
      "execution_count": 36,
      "outputs": [
        {
          "output_type": "execute_result",
          "data": {
            "text/plain": [
              "['arm hard try funding ideas big hi method']"
            ]
          },
          "metadata": {},
          "execution_count": 36
        }
      ]
    },
    {
      "cell_type": "markdown",
      "metadata": {
        "id": "XO7IWaEpzAZL"
      },
      "source": [
        "# Non-negative Matrix Factorization"
      ]
    },
    {
      "cell_type": "code",
      "metadata": {
        "id": "m-4Q8O8MzFWY"
      },
      "source": [
        "clf = decomposition.NMF(n_components=5, random_state=1)"
      ],
      "execution_count": 37,
      "outputs": []
    },
    {
      "cell_type": "code",
      "metadata": {
        "id": "nNMuV8b9zqz_"
      },
      "source": [
        "W1 = clf.fit_transform(vectors)\n",
        "H1 = clf.components_"
      ],
      "execution_count": 38,
      "outputs": []
    },
    {
      "cell_type": "code",
      "metadata": {
        "colab": {
          "base_uri": "https://localhost:8080/"
        },
        "id": "yhIBNJOvzwld",
        "outputId": "e9e43cc7-adfe-4c52-ee56-e7d5a0e440f6"
      },
      "source": [
        "show_topics(H1)"
      ],
      "execution_count": 39,
      "outputs": [
        {
          "output_type": "execute_result",
          "data": {
            "text/plain": [
              "['jpeg image gif file color images format quality',\n",
              " 'edu graphics pub mail 128 ray ftp send',\n",
              " 'space launch satellite nasa commercial satellites year market',\n",
              " 'jesus god people matthew atheists does atheism said',\n",
              " 'image data available software processing ftp edu analysis']"
            ]
          },
          "metadata": {},
          "execution_count": 39
        }
      ]
    },
    {
      "cell_type": "code",
      "metadata": {
        "colab": {
          "base_uri": "https://localhost:8080/"
        },
        "id": "Q8xdWnhfzynW",
        "outputId": "6722aa17-24b8-4927-e783-5c93e1529b46"
      },
      "source": [
        "W1[0]"
      ],
      "execution_count": 41,
      "outputs": [
        {
          "output_type": "execute_result",
          "data": {
            "text/plain": [
              "array([0.08858936, 0.02984714, 0.        , 0.04220515, 0.        ])"
            ]
          },
          "metadata": {},
          "execution_count": 41
        }
      ]
    },
    {
      "cell_type": "markdown",
      "metadata": {
        "id": "P5QNJmjO0fUZ"
      },
      "source": [
        "# Truncated SVD"
      ]
    },
    {
      "cell_type": "code",
      "metadata": {
        "colab": {
          "base_uri": "https://localhost:8080/"
        },
        "id": "uFYCxvmdz542",
        "outputId": "3b6eb024-7069-4790-c912-ab389dc3f9ea"
      },
      "source": [
        "!pip install fbpca\n",
        "import fbpca"
      ],
      "execution_count": 43,
      "outputs": [
        {
          "output_type": "stream",
          "name": "stdout",
          "text": [
            "Collecting fbpca\n",
            "  Downloading fbpca-1.0.tar.gz (11 kB)\n",
            "Building wheels for collected packages: fbpca\n",
            "  Building wheel for fbpca (setup.py) ... \u001b[?25l\u001b[?25hdone\n",
            "  Created wheel for fbpca: filename=fbpca-1.0-py3-none-any.whl size=11376 sha256=0ba0e3732d8f48850f61a19b21358c0c90a5d80b92b86ed5f03f4d6009798e58\n",
            "  Stored in directory: /root/.cache/pip/wheels/93/08/0c/1b9866c35c8d3f136d100dfe88036a32e0795437daca089f70\n",
            "Successfully built fbpca\n",
            "Installing collected packages: fbpca\n",
            "Successfully installed fbpca-1.0\n"
          ]
        }
      ]
    },
    {
      "cell_type": "code",
      "metadata": {
        "colab": {
          "base_uri": "https://localhost:8080/"
        },
        "id": "_jXBfDIG0plw",
        "outputId": "c0b80362-f079-4496-f1dd-fb9819220bf9"
      },
      "source": [
        "%time u, s, v = np.linalg.svd(vectors, full_matrices=False)"
      ],
      "execution_count": 44,
      "outputs": [
        {
          "output_type": "stream",
          "name": "stdout",
          "text": [
            "CPU times: user 1min 21s, sys: 4.4 s, total: 1min 26s\n",
            "Wall time: 44.4 s\n"
          ]
        }
      ]
    },
    {
      "cell_type": "code",
      "metadata": {
        "colab": {
          "base_uri": "https://localhost:8080/"
        },
        "id": "EjP_v96x0z77",
        "outputId": "e8863602-a414-4d1f-b442-707e793a75cf"
      },
      "source": [
        "%time u, s, v = decomposition.randomized_svd(vectors, 10)"
      ],
      "execution_count": 45,
      "outputs": [
        {
          "output_type": "stream",
          "name": "stdout",
          "text": [
            "CPU times: user 13.1 s, sys: 1.82 s, total: 15 s\n",
            "Wall time: 10.2 s\n"
          ]
        }
      ]
    },
    {
      "cell_type": "code",
      "metadata": {
        "colab": {
          "base_uri": "https://localhost:8080/"
        },
        "id": "lm42FNCW0_4L",
        "outputId": "fe0d07c2-466d-46db-fdda-f35ebc703179"
      },
      "source": [
        "%time u, s, v = fbpca.pca(vectors, 10)"
      ],
      "execution_count": 46,
      "outputs": [
        {
          "output_type": "stream",
          "name": "stdout",
          "text": [
            "CPU times: user 2.95 s, sys: 734 ms, total: 3.68 s\n",
            "Wall time: 1.99 s\n"
          ]
        }
      ]
    },
    {
      "cell_type": "code",
      "metadata": {
        "colab": {
          "base_uri": "https://localhost:8080/"
        },
        "id": "kGRFsgkI1DAd",
        "outputId": "5a37ed78-65c3-44d0-c34b-61f34d8a9bce"
      },
      "source": [
        "show_topics(v)"
      ],
      "execution_count": 49,
      "outputs": [
        {
          "output_type": "execute_result",
          "data": {
            "text/plain": [
              "['kent cheers bobby islamic muslim ico manhattan prize',\n",
              " 'jpeg gif file color quality image jfif bit',\n",
              " 'graphics edu pub mail 128 3d ray send',\n",
              " 'jesus god matthew people atheists atheism does religious',\n",
              " 'image data processing analysis software available tools display',\n",
              " 'god atheists atheism religious believe argument religion true',\n",
              " 'nasa space lunar mars probe moon missions available',\n",
              " 'image probe mars surface lunar probes moon atheists',\n",
              " 'argument fallacy conclusion example true ad argumentum premises',\n",
              " 'space image nasa sci processing news edu include']"
            ]
          },
          "metadata": {},
          "execution_count": 49
        }
      ]
    },
    {
      "cell_type": "code",
      "metadata": {
        "id": "tHE-DKB21IKM"
      },
      "source": [
        ""
      ],
      "execution_count": null,
      "outputs": []
    }
  ]
}